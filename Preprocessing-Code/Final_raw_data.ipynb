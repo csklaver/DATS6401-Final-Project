{
 "cells": [
  {
   "cell_type": "markdown",
   "metadata": {},
   "source": [
    "# Finalize raw data"
   ]
  },
  {
   "cell_type": "code",
   "execution_count": 41,
   "metadata": {},
   "outputs": [],
   "source": [
    "path = ('/Users/carolinesklaver/Desktop/Capstone/NHANES/data/csv_data/')\n",
    "\n",
    "import os\n",
    "os.chdir(path)"
   ]
  },
  {
   "cell_type": "code",
   "execution_count": 42,
   "metadata": {},
   "outputs": [],
   "source": [
    "import pandas as pd\n",
    "\n",
    "df_raw = pd.read_csv('df_raw.csv')"
   ]
  },
  {
   "cell_type": "code",
   "execution_count": 43,
   "metadata": {},
   "outputs": [],
   "source": [
    "# sexual orientation 6 and 5 are same category across years\n",
    "df_raw['sexual_orientation_M'].replace({6:5}, inplace=True)\n",
    "df_raw['sexual_orientation_F'].replace({6:5}, inplace=True)\n",
    "\n",
    "# fill male NA with female answers\n",
    "df_raw['sexual_orientation_M'] = df_raw.apply(\n",
    "    lambda row: row['sexual_orientation_F'] if np.isnan(row['sexual_orientation_M']) else row['sexual_orientation_M'],\n",
    "    axis=1)\n",
    "\n",
    "# lifetime partners\n",
    "# fill male NA with female answers\n",
    "df_raw['lifetime_male_partners'] = df_raw.apply(\n",
    "    lambda row: row['lifetime_female_partners'] if np.isnan(row['lifetime_male_partners']) else row['lifetime_male_partners'],\n",
    "    axis=1)\n",
    "\n",
    "\n",
    "# fill in doc_diabtetes with pre-diabetes if they are missing\n",
    "df_raw['doc_diabetes'] = df_raw.apply(\n",
    "    lambda row: row['doc_prediabetes'] if np.isnan(row['doc_diabetes']) else row['doc_diabetes'],\n",
    "    axis=1)\n",
    "\n",
    "\n",
    "# total cholesterol is better than these two, drop female ortientation lifetime partners, and prediabetes\n",
    "df_raw.drop(['HDL','LDL', 'sexual_orientation_F', 'lifetime_female_partners', 'doc_prediabetes'], axis=1, inplace=True)\n",
    "\n",
    "df_raw.rename(columns={\"sexual_orientation_M\": \"sexual_orientation\", \"lifetime_male_partners\": \"lifetime_partners\"}, inplace=True)\n"
   ]
  },
  {
   "cell_type": "markdown",
   "metadata": {},
   "source": [
    "## Replace all 7='refused' and 9='don't know' with NaN"
   ]
  },
  {
   "cell_type": "code",
   "execution_count": 80,
   "metadata": {},
   "outputs": [],
   "source": [
    "import numpy as np\n",
    "# columns that are not continuous:\n",
    "non_cont = ['race_ethnicity', 'edu_level','gender', 'marital_status', 'how_healthy_diet','doc_diabetes','difficult_hearing',\n",
    "           'difficult_seeing', 'used_CMH', 'health_insurance', 'doc_asthma', 'doc_overweight',\n",
    "            'doc_arthritis', 'doc_CHF', 'doc_CHD', 'doc_heart_attack', 'doc_stroke', 'doc_chronic_bronchitis', \n",
    "            'doc_liver_condition', 'doc_thyroid_problem', 'doc_COPD', 'doc_cancer', 'doc_kidney', \n",
    "            'broken_hip', 'doc_osteoporosis', 'vigorous_activity', 'moderate_activity','doc_sleeping_disorder', \n",
    "            'smoker', 'sexual_orientation', 'lifetime_partners', 'doc_HPV', 'alcoholic', 'herpes_2', 'HIV']\n",
    "\n",
    "\n",
    "for col in non_cont:\n",
    "    df_raw[col].replace([7,77,777,7777,77777], [np.nan,np.nan,np.nan,np.nan,np.nan], inplace=True)\n",
    "    df_raw[col].replace([9,99,999,9999,99999], [np.nan,np.nan,np.nan,np.nan,np.nan], inplace=True)\n",
    "    \n",
    "    \n",
    "# annual_HI - 99 77, used_marijuana - 77 or 777, min_sedetary - 7777\n",
    "col_2 = ['annual_HI', 'used_marijuana', 'min_sedetary']\n",
    "\n",
    "for col in col_2:\n",
    "    df_raw[col].replace([77,777,7777,77777], [np.nan,np.nan,np.nan,np.nan], inplace=True)\n",
    "    df_raw[col].replace([99,999,9999,99999], [np.nan,np.nan,np.nan,np.nan], inplace=True)"
   ]
  },
  {
   "cell_type": "markdown",
   "metadata": {},
   "source": [
    "## Replace all 1=yes, 2=no with 1=True, 0=False"
   ]
  },
  {
   "cell_type": "code",
   "execution_count": 81,
   "metadata": {},
   "outputs": [],
   "source": [
    "# all T/F columns\n",
    "col_TF = ['doc_diabetes', 'difficult_hearing', 'difficult_seeing','used_CMH', \n",
    "          'health_insurance', 'doc_asthma', 'doc_overweight', 'doc_arthritis', 'doc_CHF', 'doc_CHD', \n",
    "          'doc_heart_attack', 'doc_stroke', 'doc_chronic_bronchitis', 'doc_liver_condition', 'doc_thyroid_problem', \n",
    "          'doc_COPD', 'doc_cancer', 'doc_kidney', 'broken_hip', 'doc_osteoporosis', 'vigorous_activity', \n",
    "          'moderate_activity','doc_sleeping_disorder', 'smoker', 'doc_HPV', 'alcoholic', 'herpes_2', 'HIV']\n",
    "\n",
    "# replace 2 with 0\n",
    "for col in col_TF:\n",
    "    # should I replace 'indeterminant'/'boarderline' with 0 or NaN?\n",
    "    df_raw[col].replace([2,3], [0,0], inplace=True)\n"
   ]
  },
  {
   "cell_type": "code",
   "execution_count": 82,
   "metadata": {},
   "outputs": [
    {
     "data": {
      "text/plain": [
       "3.0    12900\n",
       "4.0     7477\n",
       "2.0     6416\n",
       "1.0     2689\n",
       "5.0     1857\n",
       "Name: how_healthy_diet, dtype: int64"
      ]
     },
     "execution_count": 82,
     "metadata": {},
     "output_type": "execute_result"
    }
   ],
   "source": [
    "df_raw['how_healthy_diet'].value_counts()"
   ]
  },
  {
   "cell_type": "code",
   "execution_count": 34,
   "metadata": {},
   "outputs": [
    {
     "data": {
      "text/plain": [
       "Index(['SEQN', 'race_ethnicity', 'edu_level', '#_ppl_household', 'age',\n",
       "       'gender', 'marital_status', 'annual_HI', 'depressed', 'caffeine',\n",
       "       'doc_diabetes', 'how_healthy_diet', 'used_marijuana', 'used_CMH',\n",
       "       'health_insurance', 'doc_asthma', 'doc_overweight', 'doc_arthritis',\n",
       "       'doc_CHF', 'doc_CHD', 'doc_heart_attack', 'doc_stroke',\n",
       "       'doc_chronic_bronchitis', 'doc_liver_condition', 'doc_thyroid_problem',\n",
       "       'doc_cancer', 'difficult_seeing', 'doc_kidney', 'broken_hip',\n",
       "       'doc_osteoporosis', 'vigorous_activity', 'moderate_activity',\n",
       "       'doc_sleeping_disorder', 'smoker', 'sexual_orientation',\n",
       "       'lifetime_partners', 'alcoholic', 'triglyceride', 'tot_cholesterol',\n",
       "       'glycohemoglobin', 'herpes_2', 'HIV', 'CRP', 'systolic_BP',\n",
       "       'diastolic_BP', 'BMI', 'waist_C', 'year', '#meals_fast_food',\n",
       "       'min_sedetary', 'doc_HPV', 'bone_mineral_density', 'difficult_hearing',\n",
       "       'doc_COPD'],\n",
       "      dtype='object')"
      ]
     },
     "execution_count": 34,
     "metadata": {},
     "output_type": "execute_result"
    }
   ],
   "source": [
    "df_raw.columns"
   ]
  },
  {
   "cell_type": "code",
   "execution_count": 77,
   "metadata": {},
   "outputs": [],
   "source": [
    "import numpy as np\n",
    "\n",
    "# outliers in lifetime partners\n",
    "df_raw['lifetime_partners'] = np.where(df_raw['lifetime_partners']>100, np.nan, df_raw['lifetime_partners'])\n",
    "\n",
    "# 'annual_HI' - 1-10 $5,000 increments, 11-$75,000 (only in 2004) 12-Over $20,000, \n",
    "# 13-Under $20,000, 14-$75,000 to $99,999, 15-$100,000 and Over\n",
    "# drop 12 and 13, make 14-->12, 15-->13\n",
    "df_raw['annual_HI'] = np.where(df_raw['annual_HI']==12, np.nan, df_raw['annual_HI'])\n",
    "df_raw['annual_HI'] = np.where(df_raw['annual_HI']==13, np.nan, df_raw['annual_HI'])\n",
    "df_raw['annual_HI'].replace({14:12, 15:13}, inplace=True)\n",
    "\n",
    "# outliers in caffeine\n",
    "df_raw['caffeine'] = np.where(df_raw['caffeine']>500, np.nan, df_raw['caffeine'])\n",
    "\n",
    "#df_raw['triglyceride'] = np.where(df_raw['triglyceride']>400, np.nan, df_raw['triglyceride'])\n",
    "\n",
    "df_raw['#meals_fast_food'] = np.where(df_raw['#meals_fast_food']<1,0, df_raw['#meals_fast_food'])\n",
    "df_raw['#meals_fast_food'] = np.where(df_raw['#meals_fast_food']==9999,np.nan, df_raw['#meals_fast_food'])\n",
    "df_raw['#meals_fast_food'] = np.where(df_raw['#meals_fast_food']==5555,np.nan, df_raw['#meals_fast_food'])"
   ]
  },
  {
   "cell_type": "code",
   "execution_count": null,
   "metadata": {},
   "outputs": [],
   "source": []
  },
  {
   "cell_type": "code",
   "execution_count": 74,
   "metadata": {},
   "outputs": [],
   "source": [
    "df_raw.to_csv('/Users/carolinesklaver/Desktop/Capstone/NHANES/data/csv_data/df_raw_v2.csv', index=False)"
   ]
  },
  {
   "cell_type": "code",
   "execution_count": null,
   "metadata": {},
   "outputs": [],
   "source": []
  }
 ],
 "metadata": {
  "kernelspec": {
   "display_name": "Python 3",
   "language": "python",
   "name": "python3"
  },
  "language_info": {
   "codemirror_mode": {
    "name": "ipython",
    "version": 3
   },
   "file_extension": ".py",
   "mimetype": "text/x-python",
   "name": "python",
   "nbconvert_exporter": "python",
   "pygments_lexer": "ipython3",
   "version": "3.7.4"
  }
 },
 "nbformat": 4,
 "nbformat_minor": 4
}
